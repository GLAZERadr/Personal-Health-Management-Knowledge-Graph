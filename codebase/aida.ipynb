{
 "cells": [
  {
   "cell_type": "code",
   "execution_count": 1255,
   "metadata": {},
   "outputs": [
    {
     "data": {
      "text/plain": [
       "True"
      ]
     },
     "execution_count": 1255,
     "metadata": {},
     "output_type": "execute_result"
    }
   ],
   "source": [
    "import os\n",
    "from datetime import datetime, timedelta\n",
    "from dotenv import load_dotenv\n",
    "from langchain_community.graphs import Neo4jGraph\n",
    "from langchain_openai import ChatOpenAI\n",
    "from neo4j import GraphDatabase\n",
    "from yfiles_jupyter_graphs import GraphWidget\n",
    "     \n",
    "\n",
    "load_dotenv()"
   ]
  },
  {
   "cell_type": "code",
   "execution_count": 1256,
   "metadata": {},
   "outputs": [],
   "source": [
    "url=os.getenv(\"NEO4J_URI\")\n",
    "username=os.getenv(\"NEO4J_USERNAME\")\n",
    "password=os.getenv(\"NEO4J_PASSWORD\")"
   ]
  },
  {
   "cell_type": "code",
   "execution_count": 1257,
   "metadata": {},
   "outputs": [],
   "source": [
    "os.environ[\"OPENAI_API_KEY\"] = os.getenv(\"OPENAI_API\")"
   ]
  },
  {
   "cell_type": "code",
   "execution_count": 1258,
   "metadata": {},
   "outputs": [],
   "source": [
    "llm = ChatOpenAI(model=\"gpt-3.5-turbo\")"
   ]
  },
  {
   "cell_type": "code",
   "execution_count": 1259,
   "metadata": {},
   "outputs": [],
   "source": [
    "# llm = OllamaLLM(model=\"llama3.2\")\n",
    "# response = llm.invoke(\"Who is latest president of united states you know...\")\n",
    "# print(response)"
   ]
  },
  {
   "cell_type": "code",
   "execution_count": 1260,
   "metadata": {},
   "outputs": [],
   "source": [
    "graph = Neo4jGraph(\n",
    "    url=url,\n",
    "    username=username,\n",
    "    password=password,\n",
    ")"
   ]
  },
  {
   "cell_type": "code",
   "execution_count": 1261,
   "metadata": {},
   "outputs": [],
   "source": [
    "driver = GraphDatabase.driver(uri=url, auth=(username, password))"
   ]
  },
  {
   "cell_type": "code",
   "execution_count": 1262,
   "metadata": {},
   "outputs": [],
   "source": [
    "default_cypher = \"MATCH (s)-[r]->(t) RETURN s, r, t LIMIT 50\""
   ]
  },
  {
   "cell_type": "code",
   "execution_count": 1263,
   "metadata": {},
   "outputs": [],
   "source": [
    "def show_graph(cypher: str = default_cypher):\n",
    "    driver = GraphDatabase.driver(\n",
    "        uri = url,\n",
    "        auth = (username,\n",
    "                password)\n",
    "    )\n",
    "    session = driver.session()\n",
    "    widget = GraphWidget(graph = session.run(cypher).graph())\n",
    "    widget.node_label_mapping = 'name'\n",
    "    display(widget)\n",
    "    return widget"
   ]
  },
  {
   "cell_type": "code",
   "execution_count": 1264,
   "metadata": {},
   "outputs": [],
   "source": [
    "def extract_entities(query):\n",
    "    entities = {}\n",
    "\n",
    "    # Extract user name (assuming it's provided beforehand)\n",
    "    entities[\"user_name\"] = \"Adrian Putra Pratama Badjideh\"  # Default or derived user name\n",
    "\n",
    "    # Extract specific date (e.g., \"October 15, 2024\")\n",
    "    date_match = re.search(r'\\b(January|February|March|April|May|June|July|August|September|October|November|December) \\d{1,2}, \\d{4}\\b', query)\n",
    "    if date_match:\n",
    "        date_str = date_match.group(0)\n",
    "        try:\n",
    "            specific_date = datetime.strptime(date_str, '%B %d, %Y')\n",
    "            entities['date'] = specific_date.strftime('%Y-%m-%d')\n",
    "        except ValueError:\n",
    "            pass\n",
    "\n",
    "    # Extract month (e.g., \"June 2024\")\n",
    "    month_match = re.search(r'\\b(January|February|March|April|May|June|July|August|September|October|November|December) \\d{4}\\b', query)\n",
    "    if month_match:\n",
    "        month_str = month_match.group(0)\n",
    "        try:\n",
    "            specific_month = datetime.strptime(month_str, '%B %Y')\n",
    "            entities['month'] = specific_month.strftime('%Y-%m')\n",
    "        except ValueError:\n",
    "            pass\n",
    "\n",
    "    # Extract activity type\n",
    "    if \"steps\" in query or \"physical activity\" in query:\n",
    "        entities['type'] = \"physical_activity\"\n",
    "    elif \"heart rate\" in query or \"blood pressure\" in query:\n",
    "        entities['type'] = \"physiological_parameter\"\n",
    "    elif \"sleep\" in query:\n",
    "        entities['type'] = \"sleep_duration\"\n",
    "    elif \"food\" in query or \"calories\" in query:\n",
    "        entities['type'] = \"food\"\n",
    "\n",
    "    return entities\n",
    "\n"
   ]
  },
  {
   "cell_type": "code",
   "execution_count": 1265,
   "metadata": {},
   "outputs": [],
   "source": [
    "def retrieve_context(entities):\n",
    "    try:\n",
    "        context = []\n",
    "        user_name = entities.get('user_name')\n",
    "        if not user_name:\n",
    "            raise ValueError(\"User name is required to retrieve context.\")\n",
    "\n",
    "        with driver.session() as session:\n",
    "            if entities.get('type') == \"physical_activity\":\n",
    "                print(\"Running query for User-Activity relationships...\")\n",
    "                time_condition = \"\"\n",
    "                if 'date' in entities:\n",
    "                    specific_date = datetime.strptime(entities['date'], '%Y-%m-%d')\n",
    "                    epoch_time = int(specific_date.timestamp())\n",
    "                    time_condition = f\" AND a.timestamp >= {epoch_time} AND a.timestamp < {epoch_time + 86400}\"\n",
    "                elif 'month' in entities:\n",
    "                    specific_month = datetime.strptime(entities['month'], '%Y-%m')\n",
    "                    start_epoch = int(specific_month.timestamp())\n",
    "                    next_month = specific_month.replace(day=28) + timedelta(days=4)  \n",
    "                    next_month = next_month.replace(day=1)  \n",
    "                    end_epoch = int(next_month.timestamp())\n",
    "                    time_condition = f\" AND a.timestamp >= {start_epoch} AND a.timestamp < {end_epoch}\"\n",
    "\n",
    "                activity_query = f\"\"\"\n",
    "                MATCH (u:User)-[:HAS_DONE]->(a:PhysicalActivity)\n",
    "                WHERE u.name = '{user_name}' {time_condition}\n",
    "                RETURN u, a\n",
    "                \"\"\"\n",
    "                print(f\"Generated query: {activity_query}\")\n",
    "\n",
    "                result = session.run(activity_query)\n",
    "\n",
    "                print(\"Raw data from User-Activity query:\")\n",
    "                found_data = False\n",
    "                for record in result:\n",
    "                    # print(record) \n",
    "                    found_data = True\n",
    "                    timestamp_date = datetime.utcfromtimestamp(record['a']['timestamp']).strftime('%Y-%m-%d')\n",
    "                    context.append(f\"User {record['u']['name']} did {record['a']['daily_steps']} steps on {timestamp_date}.\")\n",
    "\n",
    "                if not found_data:\n",
    "                    print(\"No data found for the query.\")\n",
    "\n",
    "            elif entities.get('type') == \"physiological_parameter\":\n",
    "                print(\"Running query for User-PhysiologicalParameter relationships...\")\n",
    "                time_condition = \"\"\n",
    "                if 'date' in entities:\n",
    "                    specific_date = datetime.strptime(entities['date'], '%Y-%m-%d')\n",
    "                    epoch_time = int(specific_date.timestamp())\n",
    "                    time_condition = f\" AND p.timestamp >= {epoch_time} AND p.timestamp < {epoch_time + 86400}\"\n",
    "                elif 'month' in entities:\n",
    "                    specific_month = datetime.strptime(entities['month'], '%Y-%m')\n",
    "                    start_epoch = int(specific_month.timestamp())\n",
    "                    next_month = specific_month.replace(day=28) + timedelta(days=4)\n",
    "                    next_month = next_month.replace(day=1)\n",
    "                    end_epoch = int(next_month.timestamp())\n",
    "                    time_condition = f\" AND p.timestamp >= {start_epoch} AND p.timestamp < {end_epoch}\"\n",
    "\n",
    "                parameter_query = f\"\"\"\n",
    "                MATCH (u:User)-[:HAS_MONITORED]->(p:PhysiologicalParameter)\n",
    "                WHERE u.name = '{user_name}' {time_condition}\n",
    "                RETURN u, p\n",
    "                \"\"\"\n",
    "                print(f\"Generated query: {parameter_query}\")\n",
    "\n",
    "                result = session.run(parameter_query)\n",
    "\n",
    "                print(\"Raw data from User-PhysiologicalParameter query:\")\n",
    "                found_data = False\n",
    "                for record in result:\n",
    "                    # print(record)  \n",
    "                    found_data = True\n",
    "                    timestamp_date = datetime.utcfromtimestamp(record['p']['timestamp']).strftime('%Y-%m-%d')\n",
    "                    context.append(f\"User {record['u']['name']} had a heart rate of {record['p']['heart_rate']} bpm on {timestamp_date}.\")\n",
    "\n",
    "                if not found_data:\n",
    "                    print(\"No data found for the query.\")\n",
    "\n",
    "            elif entities.get('type') == \"sleep_duration\":\n",
    "                print(\"Running query for User-Sleep relationships...\")\n",
    "                time_condition = \"\"\n",
    "                if 'date' in entities:\n",
    "                    specific_date = datetime.strptime(entities['date'], '%Y-%m-%d')\n",
    "                    epoch_time = int(specific_date.timestamp())\n",
    "                    time_condition = f\" AND s.timestamp >= {epoch_time} AND s.timestamp < {epoch_time + 86400}\"\n",
    "                elif 'month' in entities:\n",
    "                    specific_month = datetime.strptime(entities['month'], '%Y-%m')\n",
    "                    start_epoch = int(specific_month.timestamp())\n",
    "                    next_month = specific_month.replace(day=28) + timedelta(days=4)\n",
    "                    next_month = next_month.replace(day=1)\n",
    "                    end_epoch = int(next_month.timestamp())\n",
    "                    time_condition = f\" AND s.timestamp >= {start_epoch} AND s.timestamp < {end_epoch}\"\n",
    "\n",
    "                sleep_query = f\"\"\"\n",
    "                MATCH (u:User)-[:HAS_SLEEP]->(s:SleepDuration)\n",
    "                WHERE u.name = '{user_name}' {time_condition}\n",
    "                RETURN u, s\n",
    "                \"\"\"\n",
    "                print(f\"Generated query: {sleep_query}\")\n",
    "\n",
    "                result = session.run(sleep_query)\n",
    "\n",
    "                print(\"Raw data from User-Sleep query:\")\n",
    "                found_data = False\n",
    "                for record in result:\n",
    "                    # print(record)  \n",
    "                    found_data = True\n",
    "                    timestamp_date = datetime.utcfromtimestamp(record['s']['timestamp']).strftime('%Y-%m-%d')\n",
    "                    context.append(f\"User {record['u']['name']} slept for {record['s']['hours']} hours and {record['s']['minutes']} minutes on {timestamp_date}.\")\n",
    "\n",
    "                if not found_data:\n",
    "                    print(\"No data found for the query.\")\n",
    "\n",
    "            elif entities.get('type') == \"food\":\n",
    "                print(\"Running query for User-Food relationships...\")\n",
    "                time_condition = \"\"\n",
    "                if 'date' in entities:\n",
    "                    specific_date = datetime.strptime(entities['date'], '%Y-%m-%d')\n",
    "                    epoch_time = int(specific_date.timestamp())\n",
    "                    time_condition = f\" AND f.timestamp >= {epoch_time} AND f.timestamp < {epoch_time + 86400}\"\n",
    "                elif 'month' in entities:\n",
    "                    specific_month = datetime.strptime(entities['month'], '%Y-%m')\n",
    "                    start_epoch = int(specific_month.timestamp())\n",
    "                    next_month = specific_month.replace(day=28) + timedelta(days=4)\n",
    "                    next_month = next_month.replace(day=1)\n",
    "                    end_epoch = int(next_month.timestamp())\n",
    "                    time_condition = f\" AND f.timestamp >= {start_epoch} AND f.timestamp < {end_epoch}\"\n",
    "\n",
    "                food_query = f\"\"\"\n",
    "                MATCH (u:User)-[:HAS_CONSUMED]->(f:Food)\n",
    "                WHERE u.name = '{user_name}' {time_condition}\n",
    "                RETURN u, f\n",
    "                \"\"\"\n",
    "                print(f\"Generated query: {food_query}\")\n",
    "\n",
    "                result = session.run(food_query)\n",
    "\n",
    "                print(\"Raw data from User-Food query:\")\n",
    "                found_data = False\n",
    "                for record in result:\n",
    "                    # print(record)  \n",
    "                    found_data = True\n",
    "                    timestamp_date = datetime.utcfromtimestamp(record['f']['timestamp']).strftime('%Y-%m-%d')\n",
    "                    context.append(f\"User {record['u']['name']} consumed {record['f']['name']} with {record['f']['calories']} calories on {timestamp_date}.\")\n",
    "\n",
    "                if not found_data:\n",
    "                    print(\"No data found for the query.\")\n",
    "\n",
    "        return \" \".join(context)\n",
    "\n",
    "    except Exception as e:\n",
    "        print(f\"Error retrieving user context: {e}\")\n",
    "        return \"An error occurred while retrieving user context.\"\n"
   ]
  },
  {
   "cell_type": "code",
   "execution_count": 1266,
   "metadata": {},
   "outputs": [],
   "source": [
    "# Initialize an empty list to store conversation history\n",
    "conversation_history = []\n",
    "\n",
    "def generate_response(query):\n",
    "    # Extract entities to determine which relationships to query\n",
    "    entities = extract_entities(query)\n",
    "\n",
    "    # Retrieve context from the knowledge graph\n",
    "    context = retrieve_context(entities)\n",
    "\n",
    "    if not context or context == \"An error occurred while retrieving user context.\":\n",
    "        context = \"No specific data was found in the knowledge graph.\"\n",
    "\n",
    "    # Few-shot examples to guide the LLM\n",
    "    few_shot_examples = \"\"\"\n",
    "    Example 1:\n",
    "    Data Available:\n",
    "    User Adrian consumed 200 calories from Rice on April 1, 2024.\n",
    "    User Adrian walked 5000 steps on April 1, 2024.\n",
    "    Question: How many calories did Adrian consume on April 1, 2024?\n",
    "    Answer: On April 1, 2024, Adrian consumed 200 calories.\n",
    "    \n",
    "    Example 2:\n",
    "    Data Available:\n",
    "    User Alex did 7000 steps on April 3, 2024.\n",
    "    User Alex consumed 150 calories from Pasta on April 3, 2024.\n",
    "    Question: How many steps did Alex take on April 3, 2024?\n",
    "    Answer: On April 3, 2024, Alex did 7000 steps.\n",
    "    \"\"\"\n",
    "\n",
    "    # Construct the conversation history prompt\n",
    "    history_prompt = \"\\n\".join([f\"User: {q}\\nAssistant: {r}\" for q, r in conversation_history])\n",
    "\n",
    "    # Combine few-shot examples with conversation history and the current context and user query\n",
    "    prompt = f\"\"\"\n",
    "    You are an assistant with access to user data. Use the following examples as a guide.\n",
    "\n",
    "    {few_shot_examples}\n",
    "\n",
    "    Conversation History:\n",
    "    {history_prompt}\n",
    "\n",
    "    Data Available:\n",
    "    {context}\n",
    "\n",
    "    User's Current Question: '{query}'\n",
    "    \"\"\"\n",
    "\n",
    "    # Generate the response using the LLM\n",
    "    response = llm(prompt)\n",
    "\n",
    "    # Append the current query and response to conversation history\n",
    "    conversation_history.append((query, response.content))\n",
    "\n",
    "    return response.content\n"
   ]
  },
  {
   "cell_type": "code",
   "execution_count": 1267,
   "metadata": {},
   "outputs": [
    {
     "name": "stdout",
     "output_type": "stream",
     "text": [
      "Welcome to the Health Assistant Chatbot!\n",
      "Ask me questions about your health data (e.g., calories, steps, sleep).\n",
      "Type 'exit' to end the conversation.\n"
     ]
    }
   ],
   "source": [
    "if __name__ == \"__main__\":\n",
    "    print(\"Welcome to the Health Assistant Chatbot!\")\n",
    "    print(\"Ask me questions about your health data (e.g., calories, steps, sleep).\")\n",
    "    print(\"Type 'exit' to end the conversation.\")\n",
    "\n",
    "    while True:\n",
    "        user_input = input(\"You: \")\n",
    "\n",
    "        if user_input.lower() == 'exit':\n",
    "            print(\"Goodbye!\")\n",
    "            break\n",
    "\n",
    "        # Generate and print the assistant's response\n",
    "        response = generate_response(user_input)\n",
    "        print(\"Assistant:\", response)"
   ]
  },
  {
   "cell_type": "code",
   "execution_count": null,
   "metadata": {},
   "outputs": [
    {
     "name": "stdout",
     "output_type": "stream",
     "text": [
      "Running query for User-Food relationships...\n",
      "Generated query: \n",
      "                MATCH (u:User)-[:HAS_CONSUMED]->(f:Food)\n",
      "                WHERE u.name = 'Adrian Putra Pratama Badjideh'  AND f.timestamp >= 1712941200 AND f.timestamp < 1713027600\n",
      "                RETURN u, f\n",
      "                \n",
      "Raw data from User-Food query:\n"
     ]
    },
    {
     "name": "stderr",
     "output_type": "stream",
     "text": [
      "/var/folders/md/k4hp7_s521j4h11bpvyvgrpw0000gn/T/ipykernel_15570/3677605817.py:143: DeprecationWarning: datetime.datetime.utcfromtimestamp() is deprecated and scheduled for removal in a future version. Use timezone-aware objects to represent datetimes in UTC: datetime.datetime.fromtimestamp(timestamp, datetime.UTC).\n",
      "  timestamp_date = datetime.utcfromtimestamp(record['f']['timestamp']).strftime('%Y-%m-%d')\n"
     ]
    },
    {
     "name": "stdout",
     "output_type": "stream",
     "text": [
      "Raw Response: content='Answer: On April 13, 2024, Adrian Putra Pratama Badjideh consumed the following:\\n- Rice with 200.0 calories\\n- Fried Tempeh with 226.0 calories\\n- Stir-fried Bean Sprouts with 150.0 calories\\n- Fried Chicken Wings with 84.0 calories\\n- Meatball Soup with 97.0 calories\\n- Fried Vegetable Fritters with 46.0 calories\\n- Canned Sardines with 120.0 calories\\n- Bread with 240.0 calories\\n- Chocolate Jam with 80.0 calories\\n\\nIn total, Adrian consumed 1143.0 calories on April 13, 2024.' additional_kwargs={'refusal': None} response_metadata={'token_usage': {'completion_tokens': 147, 'prompt_tokens': 606, 'total_tokens': 753, 'completion_tokens_details': {'accepted_prediction_tokens': 0, 'audio_tokens': 0, 'reasoning_tokens': 0, 'rejected_prediction_tokens': 0}, 'prompt_tokens_details': {'audio_tokens': 0, 'cached_tokens': 0}}, 'model_name': 'gpt-3.5-turbo-0125', 'system_fingerprint': None, 'finish_reason': 'stop', 'logprobs': None} id='run-ea3b4637-160d-4afd-831f-8d3c48be7d69-0' usage_metadata={'input_tokens': 606, 'output_tokens': 147, 'total_tokens': 753, 'input_token_details': {'audio': 0, 'cache_read': 0}, 'output_token_details': {'audio': 0, 'reasoning': 0}}\n",
      "Response Type: <class 'langchain_core.messages.ai.AIMessage'>\n",
      "Query Result Content: Answer: On April 13, 2024, Adrian Putra Pratama Badjideh consumed the following:\n",
      "- Rice with 200.0 calories\n",
      "- Fried Tempeh with 226.0 calories\n",
      "- Stir-fried Bean Sprouts with 150.0 calories\n",
      "- Fried Chicken Wings with 84.0 calories\n",
      "- Meatball Soup with 97.0 calories\n",
      "- Fried Vegetable Fritters with 46.0 calories\n",
      "- Canned Sardines with 120.0 calories\n",
      "- Bread with 240.0 calories\n",
      "- Chocolate Jam with 80.0 calories\n",
      "\n",
      "In total, Adrian consumed 1143.0 calories on April 13, 2024.\n"
     ]
    }
   ],
   "source": [
    "if __name__ == \"__main__\":\n",
    "    query = \"What did I eat on April 13, 2024, and how many calories were consumed?\"\n",
    "    response = generate_response(query)\n",
    "    \n",
    "    print(\"Raw Response:\", response)\n",
    "    print(\"Response Type:\", type(response))\n",
    "\n",
    "    if hasattr(response, 'content'):\n",
    "        content = response.content\n",
    "        print(\"Query Result Content:\", content)\n",
    "    elif isinstance(response, dict):\n",
    "        content = response.get('content', None)\n",
    "        if content:\n",
    "            print(\"Query Result Content:\", content)\n",
    "        else:\n",
    "            print(\"No content found in response.\")\n",
    "    elif isinstance(response, str):\n",
    "        print(\"Query Result Content:\", response)\n",
    "    else:\n",
    "        print(\"Response is not a known type for content extraction.\")"
   ]
  },
  {
   "cell_type": "code",
   "execution_count": null,
   "metadata": {},
   "outputs": [
    {
     "name": "stdout",
     "output_type": "stream",
     "text": [
      "Running query for User-Activity relationships...\n",
      "Generated query: \n",
      "                MATCH (u:User)-[:HAS_DONE]->(a:PhysicalActivity)\n",
      "                WHERE u.name = 'Adrian Putra Pratama Badjideh'  AND a.timestamp >= 1712941200 AND a.timestamp < 1713027600\n",
      "                RETURN u, a\n",
      "                \n",
      "Raw data from User-Activity query:\n"
     ]
    },
    {
     "name": "stderr",
     "output_type": "stream",
     "text": [
      "/var/folders/md/k4hp7_s521j4h11bpvyvgrpw0000gn/T/ipykernel_15570/3677605817.py:38: DeprecationWarning: datetime.datetime.utcfromtimestamp() is deprecated and scheduled for removal in a future version. Use timezone-aware objects to represent datetimes in UTC: datetime.datetime.fromtimestamp(timestamp, datetime.UTC).\n",
      "  timestamp_date = datetime.utcfromtimestamp(record['a']['timestamp']).strftime('%Y-%m-%d')\n"
     ]
    },
    {
     "name": "stdout",
     "output_type": "stream",
     "text": [
      "Raw Response: content='Answer: On April 13, 2024, Adrian Putra Pratama Badjideh did 4776 steps for their activity.' additional_kwargs={'refusal': None} response_metadata={'token_usage': {'completion_tokens': 30, 'prompt_tokens': 327, 'total_tokens': 357, 'completion_tokens_details': {'accepted_prediction_tokens': 0, 'audio_tokens': 0, 'reasoning_tokens': 0, 'rejected_prediction_tokens': 0}, 'prompt_tokens_details': {'audio_tokens': 0, 'cached_tokens': 0}}, 'model_name': 'gpt-3.5-turbo-0125', 'system_fingerprint': None, 'finish_reason': 'stop', 'logprobs': None} id='run-4e0dd9c1-1175-4297-881b-addf1f141971-0' usage_metadata={'input_tokens': 327, 'output_tokens': 30, 'total_tokens': 357, 'input_token_details': {'audio': 0, 'cache_read': 0}, 'output_token_details': {'audio': 0, 'reasoning': 0}}\n",
      "Response Type: <class 'langchain_core.messages.ai.AIMessage'>\n",
      "Query Result Content: Answer: On April 13, 2024, Adrian Putra Pratama Badjideh did 4776 steps for their activity.\n"
     ]
    }
   ],
   "source": [
    "if __name__ == \"__main__\":\n",
    "    query = \"How many steps i take for my activity on April 13, 2024?\"\n",
    "    response = generate_response(query)\n",
    "    \n",
    "    # Print the raw response to understand its type and structure\n",
    "    print(\"Raw Response:\", response)\n",
    "    print(\"Response Type:\", type(response))\n",
    "\n",
    "    # Extract the content from the response\n",
    "    if hasattr(response, 'content'):\n",
    "        content = response.content\n",
    "        print(\"Query Result Content:\", content)\n",
    "    elif isinstance(response, dict):\n",
    "        content = response.get('content', None)\n",
    "        if content:\n",
    "            print(\"Query Result Content:\", content)\n",
    "        else:\n",
    "            print(\"No content found in response.\")\n",
    "    elif isinstance(response, str):\n",
    "        # If the response is a string, just print it directly\n",
    "        print(\"Query Result Content:\", response)\n",
    "    else:\n",
    "        print(\"Response is not a known type for content extraction.\")"
   ]
  }
 ],
 "metadata": {
  "kernelspec": {
   "display_name": "PHMKG SYSTEM",
   "language": "python",
   "name": "python3"
  },
  "language_info": {
   "codemirror_mode": {
    "name": "ipython",
    "version": 3
   },
   "file_extension": ".py",
   "mimetype": "text/x-python",
   "name": "python",
   "nbconvert_exporter": "python",
   "pygments_lexer": "ipython3",
   "version": "3.13.0"
  }
 },
 "nbformat": 4,
 "nbformat_minor": 2
}
