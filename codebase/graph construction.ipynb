{
 "cells": [
  {
   "cell_type": "code",
   "execution_count": 9,
   "metadata": {},
   "outputs": [
    {
     "data": {
      "text/plain": [
       "True"
      ]
     },
     "execution_count": 9,
     "metadata": {},
     "output_type": "execute_result"
    }
   ],
   "source": [
    "import os\n",
    "import uuid\n",
    "import pandas as pd\n",
    "\n",
    "from dotenv import load_dotenv\n",
    "\n",
    "from neomodel import (\n",
    "    StructuredNode,\n",
    "    StringProperty,\n",
    "    IntegerProperty,\n",
    "    FloatProperty,\n",
    "    DateTimeProperty,\n",
    "    RelationshipTo,\n",
    ")\n",
    "\n",
    "load_dotenv()"
   ]
  },
  {
   "cell_type": "code",
   "execution_count": 10,
   "metadata": {},
   "outputs": [],
   "source": [
    "URI=os.getenv(\"NEO4J_URI\")\n",
    "USERNAME=os.getenv(\"NEO4J_USERNAME\")\n",
    "PASSWORD=os.getenv(\"NEO4J_PASSWORD\")"
   ]
  },
  {
   "cell_type": "markdown",
   "metadata": {},
   "source": [
    "## Read Dataset"
   ]
  },
  {
   "cell_type": "code",
   "execution_count": 11,
   "metadata": {},
   "outputs": [
    {
     "data": {
      "text/html": [
       "<div>\n",
       "<style scoped>\n",
       "    .dataframe tbody tr th:only-of-type {\n",
       "        vertical-align: middle;\n",
       "    }\n",
       "\n",
       "    .dataframe tbody tr th {\n",
       "        vertical-align: top;\n",
       "    }\n",
       "\n",
       "    .dataframe thead th {\n",
       "        text-align: right;\n",
       "    }\n",
       "</style>\n",
       "<table border=\"1\" class=\"dataframe\">\n",
       "  <thead>\n",
       "    <tr style=\"text-align: right;\">\n",
       "      <th></th>\n",
       "      <th>Date</th>\n",
       "      <th>Size</th>\n",
       "      <th>Food_Name</th>\n",
       "      <th>Calories</th>\n",
       "      <th>Carbohydrates</th>\n",
       "      <th>Fat</th>\n",
       "      <th>Protein</th>\n",
       "      <th>Sodium</th>\n",
       "      <th>Sugar</th>\n",
       "    </tr>\n",
       "  </thead>\n",
       "  <tbody>\n",
       "    <tr>\n",
       "      <th>0</th>\n",
       "      <td>03/04/24</td>\n",
       "      <td>200 gram</td>\n",
       "      <td>White Rice</td>\n",
       "      <td>300.0</td>\n",
       "      <td>80.0</td>\n",
       "      <td>1.0</td>\n",
       "      <td>6.0</td>\n",
       "      <td>0.0</td>\n",
       "      <td>0.0</td>\n",
       "    </tr>\n",
       "    <tr>\n",
       "      <th>1</th>\n",
       "      <td>03/04/24</td>\n",
       "      <td>24 gram</td>\n",
       "      <td>Crispy Fried Chicken with Chili</td>\n",
       "      <td>132.0</td>\n",
       "      <td>17.0</td>\n",
       "      <td>6.0</td>\n",
       "      <td>2.0</td>\n",
       "      <td>324.0</td>\n",
       "      <td>4.0</td>\n",
       "    </tr>\n",
       "    <tr>\n",
       "      <th>2</th>\n",
       "      <td>04/04/24</td>\n",
       "      <td>2 piece</td>\n",
       "      <td>Fried Noodles</td>\n",
       "      <td>820.0</td>\n",
       "      <td>116.0</td>\n",
       "      <td>32.0</td>\n",
       "      <td>16.0</td>\n",
       "      <td>0.0</td>\n",
       "      <td>14.0</td>\n",
       "    </tr>\n",
       "    <tr>\n",
       "      <th>3</th>\n",
       "      <td>04/04/24</td>\n",
       "      <td>1 container</td>\n",
       "      <td>Padang Rice</td>\n",
       "      <td>664.0</td>\n",
       "      <td>70.0</td>\n",
       "      <td>15.0</td>\n",
       "      <td>5.0</td>\n",
       "      <td>0.0</td>\n",
       "      <td>0.0</td>\n",
       "    </tr>\n",
       "    <tr>\n",
       "      <th>4</th>\n",
       "      <td>04/04/24</td>\n",
       "      <td>0.8 container</td>\n",
       "      <td>Padang Rice</td>\n",
       "      <td>531.0</td>\n",
       "      <td>56.0</td>\n",
       "      <td>12.0</td>\n",
       "      <td>4.0</td>\n",
       "      <td>0.0</td>\n",
       "      <td>0.0</td>\n",
       "    </tr>\n",
       "  </tbody>\n",
       "</table>\n",
       "</div>"
      ],
      "text/plain": [
       "       Date           Size                        Food_Name  Calories  \\\n",
       "0  03/04/24       200 gram                       White Rice     300.0   \n",
       "1  03/04/24        24 gram  Crispy Fried Chicken with Chili     132.0   \n",
       "2  04/04/24        2 piece                    Fried Noodles     820.0   \n",
       "3  04/04/24    1 container                      Padang Rice     664.0   \n",
       "4  04/04/24  0.8 container                      Padang Rice     531.0   \n",
       "\n",
       "   Carbohydrates   Fat  Protein  Sodium  Sugar  \n",
       "0           80.0   1.0      6.0     0.0    0.0  \n",
       "1           17.0   6.0      2.0   324.0    4.0  \n",
       "2          116.0  32.0     16.0     0.0   14.0  \n",
       "3           70.0  15.0      5.0     0.0    0.0  \n",
       "4           56.0  12.0      4.0     0.0    0.0  "
      ]
     },
     "execution_count": 11,
     "metadata": {},
     "output_type": "execute_result"
    }
   ],
   "source": [
    "dietary_habit = pd.read_csv('../data/cleaned dietary habit.csv')\n",
    "dietary_habit.head()"
   ]
  },
  {
   "cell_type": "code",
   "execution_count": 12,
   "metadata": {},
   "outputs": [
    {
     "data": {
      "text/html": [
       "<div>\n",
       "<style scoped>\n",
       "    .dataframe tbody tr th:only-of-type {\n",
       "        vertical-align: middle;\n",
       "    }\n",
       "\n",
       "    .dataframe tbody tr th {\n",
       "        vertical-align: top;\n",
       "    }\n",
       "\n",
       "    .dataframe thead th {\n",
       "        text-align: right;\n",
       "    }\n",
       "</style>\n",
       "<table border=\"1\" class=\"dataframe\">\n",
       "  <thead>\n",
       "    <tr style=\"text-align: right;\">\n",
       "      <th></th>\n",
       "      <th>Timestamp</th>\n",
       "      <th>Daily Steps</th>\n",
       "      <th>Distance (km)</th>\n",
       "      <th>Calories Burned</th>\n",
       "    </tr>\n",
       "  </thead>\n",
       "  <tbody>\n",
       "    <tr>\n",
       "      <th>0</th>\n",
       "      <td>13/04/24</td>\n",
       "      <td>4776</td>\n",
       "      <td>3.72</td>\n",
       "      <td>238</td>\n",
       "    </tr>\n",
       "    <tr>\n",
       "      <th>1</th>\n",
       "      <td>14/04/24</td>\n",
       "      <td>5337</td>\n",
       "      <td>3.94</td>\n",
       "      <td>232</td>\n",
       "    </tr>\n",
       "    <tr>\n",
       "      <th>2</th>\n",
       "      <td>15/04/24</td>\n",
       "      <td>9597</td>\n",
       "      <td>8.18</td>\n",
       "      <td>544</td>\n",
       "    </tr>\n",
       "    <tr>\n",
       "      <th>3</th>\n",
       "      <td>16/04/24</td>\n",
       "      <td>6842</td>\n",
       "      <td>5.23</td>\n",
       "      <td>296</td>\n",
       "    </tr>\n",
       "    <tr>\n",
       "      <th>4</th>\n",
       "      <td>17/04/24</td>\n",
       "      <td>7156</td>\n",
       "      <td>5.48</td>\n",
       "      <td>309</td>\n",
       "    </tr>\n",
       "  </tbody>\n",
       "</table>\n",
       "</div>"
      ],
      "text/plain": [
       "  Timestamp  Daily Steps  Distance (km)  Calories Burned\n",
       "0  13/04/24         4776           3.72              238\n",
       "1  14/04/24         5337           3.94              232\n",
       "2  15/04/24         9597           8.18              544\n",
       "3  16/04/24         6842           5.23              296\n",
       "4  17/04/24         7156           5.48              309"
      ]
     },
     "execution_count": 12,
     "metadata": {},
     "output_type": "execute_result"
    }
   ],
   "source": [
    "physical_activity = pd.read_csv('../data/Physical Activity.csv')\n",
    "physical_activity.head()"
   ]
  },
  {
   "cell_type": "code",
   "execution_count": 13,
   "metadata": {},
   "outputs": [
    {
     "data": {
      "text/html": [
       "<div>\n",
       "<style scoped>\n",
       "    .dataframe tbody tr th:only-of-type {\n",
       "        vertical-align: middle;\n",
       "    }\n",
       "\n",
       "    .dataframe tbody tr th {\n",
       "        vertical-align: top;\n",
       "    }\n",
       "\n",
       "    .dataframe thead th {\n",
       "        text-align: right;\n",
       "    }\n",
       "</style>\n",
       "<table border=\"1\" class=\"dataframe\">\n",
       "  <thead>\n",
       "    <tr style=\"text-align: right;\">\n",
       "      <th></th>\n",
       "      <th>Timestamp</th>\n",
       "      <th>Heart Rate</th>\n",
       "      <th>Blood Pressure</th>\n",
       "      <th>Blood Oxygen</th>\n",
       "    </tr>\n",
       "  </thead>\n",
       "  <tbody>\n",
       "    <tr>\n",
       "      <th>0</th>\n",
       "      <td>19/04/24 15:20</td>\n",
       "      <td>69</td>\n",
       "      <td>78/109</td>\n",
       "      <td>95</td>\n",
       "    </tr>\n",
       "    <tr>\n",
       "      <th>1</th>\n",
       "      <td>19/04/24 20:09</td>\n",
       "      <td>69</td>\n",
       "      <td>78/108</td>\n",
       "      <td>94</td>\n",
       "    </tr>\n",
       "    <tr>\n",
       "      <th>2</th>\n",
       "      <td>20/04/24 15:40</td>\n",
       "      <td>99</td>\n",
       "      <td>84/111</td>\n",
       "      <td>97</td>\n",
       "    </tr>\n",
       "    <tr>\n",
       "      <th>3</th>\n",
       "      <td>21/04/24 08:15</td>\n",
       "      <td>82</td>\n",
       "      <td>81/112</td>\n",
       "      <td>96</td>\n",
       "    </tr>\n",
       "    <tr>\n",
       "      <th>4</th>\n",
       "      <td>22/04/24 14:30</td>\n",
       "      <td>75</td>\n",
       "      <td>80/110</td>\n",
       "      <td>97</td>\n",
       "    </tr>\n",
       "  </tbody>\n",
       "</table>\n",
       "</div>"
      ],
      "text/plain": [
       "        Timestamp  Heart Rate Blood Pressure  Blood Oxygen\n",
       "0  19/04/24 15:20          69         78/109            95\n",
       "1  19/04/24 20:09          69         78/108            94\n",
       "2  20/04/24 15:40          99         84/111            97\n",
       "3  21/04/24 08:15          82         81/112            96\n",
       "4  22/04/24 14:30          75         80/110            97"
      ]
     },
     "execution_count": 13,
     "metadata": {},
     "output_type": "execute_result"
    }
   ],
   "source": [
    "physiological_parameter = pd.read_csv('../data/Physiological Parameter.csv')\n",
    "physiological_parameter.head()"
   ]
  },
  {
   "cell_type": "code",
   "execution_count": 14,
   "metadata": {},
   "outputs": [
    {
     "data": {
      "text/html": [
       "<div>\n",
       "<style scoped>\n",
       "    .dataframe tbody tr th:only-of-type {\n",
       "        vertical-align: middle;\n",
       "    }\n",
       "\n",
       "    .dataframe tbody tr th {\n",
       "        vertical-align: top;\n",
       "    }\n",
       "\n",
       "    .dataframe thead th {\n",
       "        text-align: right;\n",
       "    }\n",
       "</style>\n",
       "<table border=\"1\" class=\"dataframe\">\n",
       "  <thead>\n",
       "    <tr style=\"text-align: right;\">\n",
       "      <th></th>\n",
       "      <th>Timestamp</th>\n",
       "      <th>Hours</th>\n",
       "      <th>Minutes</th>\n",
       "    </tr>\n",
       "  </thead>\n",
       "  <tbody>\n",
       "    <tr>\n",
       "      <th>0</th>\n",
       "      <td>05/10/24</td>\n",
       "      <td>7</td>\n",
       "      <td>15</td>\n",
       "    </tr>\n",
       "    <tr>\n",
       "      <th>1</th>\n",
       "      <td>06/10/24</td>\n",
       "      <td>8</td>\n",
       "      <td>30</td>\n",
       "    </tr>\n",
       "    <tr>\n",
       "      <th>2</th>\n",
       "      <td>07/10/24</td>\n",
       "      <td>6</td>\n",
       "      <td>45</td>\n",
       "    </tr>\n",
       "    <tr>\n",
       "      <th>3</th>\n",
       "      <td>08/10/24</td>\n",
       "      <td>7</td>\n",
       "      <td>20</td>\n",
       "    </tr>\n",
       "    <tr>\n",
       "      <th>4</th>\n",
       "      <td>09/10/24</td>\n",
       "      <td>7</td>\n",
       "      <td>50</td>\n",
       "    </tr>\n",
       "  </tbody>\n",
       "</table>\n",
       "</div>"
      ],
      "text/plain": [
       "  Timestamp  Hours  Minutes\n",
       "0  05/10/24      7       15\n",
       "1  06/10/24      8       30\n",
       "2  07/10/24      6       45\n",
       "3  08/10/24      7       20\n",
       "4  09/10/24      7       50"
      ]
     },
     "execution_count": 14,
     "metadata": {},
     "output_type": "execute_result"
    }
   ],
   "source": [
    "sleep_duration = pd.read_csv('../data/Sleep Duration.csv')\n",
    "sleep_duration.head()"
   ]
  },
  {
   "cell_type": "markdown",
   "metadata": {},
   "source": [
    "## Convert Timestamp Based Neo4J Object"
   ]
  },
  {
   "cell_type": "code",
   "execution_count": 15,
   "metadata": {},
   "outputs": [],
   "source": [
    "dietary_habit['Date'] = pd.to_datetime(dietary_habit['Date'], format='%d/%m/%y')\n",
    "physical_activity['Timestamp'] = pd.to_datetime(physical_activity['Timestamp'], format='%d/%m/%y')\n",
    "physiological_parameter['Timestamp'] = pd.to_datetime(physiological_parameter['Timestamp'], format='%d/%m/%y %H:%M')\n",
    "sleep_duration['Timestamp'] = pd.to_datetime(sleep_duration['Timestamp'], format='%d/%m/%y')"
   ]
  },
  {
   "cell_type": "markdown",
   "metadata": {},
   "source": [
    "## Define Nodes and Relationships"
   ]
  },
  {
   "cell_type": "code",
   "execution_count": 16,
   "metadata": {},
   "outputs": [],
   "source": [
    "class User(StructuredNode):\n",
    "    _id = StringProperty(unique_index=True)\n",
    "    name = StringProperty(required=True)\n",
    "    age = IntegerProperty(required=True)\n",
    "    height = FloatProperty(required=True)\n",
    "    weight = FloatProperty(required=True)\n",
    "\n",
    "    has_done = RelationshipTo('PhysicalActivity', 'HAS_DONE')\n",
    "    has_consumed = RelationshipTo('Food', 'HAS_CONSUMED')\n",
    "    has_monitored = RelationshipTo('PhysiologicalParameter', 'HAS_MONITORED')\n",
    "    has_sleep = RelationshipTo('SleepDuration', 'HAS_SLEEP')\n",
    "\n",
    "class Food(StructuredNode):\n",
    "    _id = StringProperty(unique_index=True)\n",
    "    name = StringProperty(required=True)\n",
    "    serving_size = StringProperty(required=True)\n",
    "    calories = FloatProperty(required=True)\n",
    "    carbohydrates = FloatProperty(required=True)\n",
    "    protein = FloatProperty(required=True)\n",
    "    fat = FloatProperty(required=True)\n",
    "    sodium = FloatProperty(required=True)\n",
    "    sugar = FloatProperty(required=True)\n",
    "    timestamp = DateTimeProperty(required=True)\n",
    "\n",
    "class PhysicalActivity(StructuredNode):\n",
    "    _id = StringProperty(unique_index=True)\n",
    "    daily_steps = IntegerProperty(required=True)\n",
    "    distance = FloatProperty(required=True)\n",
    "    calories_burned = FloatProperty(required=True)\n",
    "    timestamp = DateTimeProperty(required=True)\n",
    "\n",
    "class PhysiologicalParameter(StructuredNode):\n",
    "    _id = StringProperty(unique_index=True)\n",
    "    heart_rate = IntegerProperty(required=True)\n",
    "    blood_pressure = StringProperty(required=True)  \n",
    "    blood_oxygen = FloatProperty(required=True)\n",
    "    timestamp = DateTimeProperty(required=True)\n",
    "\n",
    "class SleepDuration(StructuredNode):\n",
    "    _id = StringProperty(unique_index=True)\n",
    "    hours = IntegerProperty(required=True)\n",
    "    minutes = IntegerProperty(required=True)\n",
    "    timestamp = DateTimeProperty(required=True)"
   ]
  },
  {
   "cell_type": "markdown",
   "metadata": {},
   "source": [
    "## Populate Graph with Dataset"
   ]
  },
  {
   "cell_type": "code",
   "execution_count": 17,
   "metadata": {},
   "outputs": [
    {
     "name": "stdout",
     "output_type": "stream",
     "text": [
      "Success populating user data...\n"
     ]
    }
   ],
   "source": [
    "user = User(\n",
    "    _id=str(uuid.uuid4()),\n",
    "    name=\"Adrian Putra Pratama Badjideh\",\n",
    "    age=20,\n",
    "    height=172.0,  \n",
    "    weight=85.0   \n",
    ")\n",
    "user.save()\n",
    "\n",
    "print(\"Success populating user data...\")"
   ]
  },
  {
   "cell_type": "code",
   "execution_count": 18,
   "metadata": {},
   "outputs": [
    {
     "name": "stdout",
     "output_type": "stream",
     "text": [
      "Success populating food data...\n"
     ]
    }
   ],
   "source": [
    "for index, row in dietary_habit.iterrows():\n",
    "    unique_id = str(uuid.uuid4())\n",
    "\n",
    "    food = Food(\n",
    "        _id=unique_id,\n",
    "        name=row['Food_Name'],\n",
    "        serving_size=row['Size'],\n",
    "        calories=row['Calories'],\n",
    "        carbohydrates=row['Carbohydrates'],\n",
    "        protein=row['Protein'],\n",
    "        fat=row['Fat'],\n",
    "        sodium=row['Sodium'],\n",
    "        sugar=row['Sugar'],\n",
    "        timestamp=row['Date']\n",
    "    )\n",
    "    food.save()\n",
    "\n",
    "    user = User.nodes.first()  \n",
    "    user.has_consumed.connect(food)  \n",
    "\n",
    "print(\"Success populating food data...\")"
   ]
  },
  {
   "cell_type": "code",
   "execution_count": 19,
   "metadata": {},
   "outputs": [
    {
     "name": "stdout",
     "output_type": "stream",
     "text": [
      "Success populating physical activity data...\n"
     ]
    }
   ],
   "source": [
    "for index, row in physical_activity.iterrows():\n",
    "    unique_id = str(uuid.uuid4())\n",
    "\n",
    "    activity = PhysicalActivity(\n",
    "        _id=unique_id,\n",
    "        daily_steps=row['Daily Steps'],\n",
    "        distance=row['Distance (km)'],\n",
    "        calories_burned=row['Calories Burned'],\n",
    "        timestamp=row['Timestamp']\n",
    "    )\n",
    "    activity.save()\n",
    "\n",
    "    user = User.nodes.first()  \n",
    "    user.has_done.connect(activity)  \n",
    "\n",
    "print(\"Success populating physical activity data...\")"
   ]
  },
  {
   "cell_type": "code",
   "execution_count": 20,
   "metadata": {},
   "outputs": [
    {
     "name": "stdout",
     "output_type": "stream",
     "text": [
      "Success populating physiological parameter data...\n"
     ]
    }
   ],
   "source": [
    "for index, row in physiological_parameter.iterrows():\n",
    "    unique_id = str(uuid.uuid4())\n",
    "\n",
    "    physiology = PhysiologicalParameter(\n",
    "        _id=unique_id,\n",
    "        heart_rate=row['Heart Rate'],\n",
    "        blood_pressure=row['Blood Pressure'],\n",
    "        blood_oxygen=row['Blood Oxygen'],\n",
    "        timestamp=row['Timestamp']\n",
    "    )\n",
    "    physiology.save()\n",
    "\n",
    "    user = User.nodes.first()  \n",
    "    user.has_monitored.connect(physiology) \n",
    "\n",
    "print(\"Success populating physiological parameter data...\")"
   ]
  },
  {
   "cell_type": "code",
   "execution_count": 21,
   "metadata": {},
   "outputs": [
    {
     "name": "stdout",
     "output_type": "stream",
     "text": [
      "Success populating sleep duration data...\n"
     ]
    }
   ],
   "source": [
    "for index, row in sleep_duration.iterrows():\n",
    "    unique_id = str(uuid.uuid4())\n",
    "\n",
    "    sleep = SleepDuration(\n",
    "        _id=unique_id,\n",
    "        hours=row['Hours'],\n",
    "        minutes=row['Minutes'],\n",
    "        timestamp=row['Timestamp']\n",
    "    )\n",
    "    sleep.save()\n",
    "\n",
    "    user = User.nodes.first()  \n",
    "    user.has_sleep.connect(sleep)  \n",
    "\n",
    "print(\"Success populating sleep duration data...\")"
   ]
  }
 ],
 "metadata": {
  "kernelspec": {
   "display_name": "PHMKG SYSTEM",
   "language": "python",
   "name": "python3"
  },
  "language_info": {
   "codemirror_mode": {
    "name": "ipython",
    "version": 3
   },
   "file_extension": ".py",
   "mimetype": "text/x-python",
   "name": "python",
   "nbconvert_exporter": "python",
   "pygments_lexer": "ipython3",
   "version": "3.13.0"
  }
 },
 "nbformat": 4,
 "nbformat_minor": 2
}
