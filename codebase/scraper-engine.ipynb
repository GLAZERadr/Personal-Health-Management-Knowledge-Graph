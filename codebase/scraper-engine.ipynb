{
 "cells": [
  {
   "cell_type": "code",
   "execution_count": 1,
   "metadata": {},
   "outputs": [
    {
     "ename": "ModuleNotFoundError",
     "evalue": "No module named 'myfitnesspal'",
     "output_type": "error",
     "traceback": [
      "\u001b[0;31m---------------------------------------------------------------------------\u001b[0m",
      "\u001b[0;31mModuleNotFoundError\u001b[0m                       Traceback (most recent call last)",
      "Cell \u001b[0;32mIn[1], line 3\u001b[0m\n\u001b[1;32m      1\u001b[0m \u001b[38;5;28;01mimport\u001b[39;00m \u001b[38;5;21;01mpandas\u001b[39;00m \u001b[38;5;28;01mas\u001b[39;00m \u001b[38;5;21;01mpd\u001b[39;00m\n\u001b[1;32m      2\u001b[0m \u001b[38;5;28;01mimport\u001b[39;00m \u001b[38;5;21;01mnumpy\u001b[39;00m \u001b[38;5;28;01mas\u001b[39;00m \u001b[38;5;21;01mnp\u001b[39;00m\n\u001b[0;32m----> 3\u001b[0m \u001b[38;5;28;01mimport\u001b[39;00m \u001b[38;5;21;01mmyfitnesspal\u001b[39;00m\n\u001b[1;32m      4\u001b[0m \u001b[38;5;28;01mimport\u001b[39;00m \u001b[38;5;21;01mdatetime\u001b[39;00m\n\u001b[1;32m      5\u001b[0m \u001b[38;5;28;01mfrom\u001b[39;00m \u001b[38;5;21;01mtqdm\u001b[39;00m \u001b[38;5;28;01mimport\u001b[39;00m tqdm\n",
      "\u001b[0;31mModuleNotFoundError\u001b[0m: No module named 'myfitnesspal'"
     ]
    }
   ],
   "source": [
    "import pandas as pd\n",
    "import numpy as np\n",
    "import myfitnesspal\n",
    "import datetime\n",
    "from tqdm import tqdm"
   ]
  },
  {
   "cell_type": "code",
   "execution_count": null,
   "metadata": {},
   "outputs": [],
   "source": [
    "client = myfitnesspal.Client()"
   ]
  },
  {
   "cell_type": "code",
   "execution_count": null,
   "metadata": {},
   "outputs": [],
   "source": [
    "start_date = datetime.date(2024, 4, 3)\n",
    "end_date = datetime.date(2025, 11, 30)\n",
    "\n",
    "columns = ['Date', 'Size', 'Food_Name', 'Calories', 'Carbohydrates', 'Fat', 'Protein', 'Sodium', 'Sugar']\n",
    "\n",
    "df = pd.DataFrame(columns=columns)"
   ]
  },
  {
   "cell_type": "code",
   "execution_count": null,
   "metadata": {},
   "outputs": [],
   "source": [
    "def pull_data_for_date(year, month, day):\n",
    "    try:\n",
    "        day_data = client.get_date(year, month, day)  \n",
    "        \n",
    "        meals = day_data.meals\n",
    "        \n",
    "        for meal in meals:\n",
    "            if any(meal_type in meal._name.lower() for meal_type in ['dinner', 'breakfast', 'lunch', 'snacks']):\n",
    "                for entry in meal._entries:\n",
    "                    food_data = entry.__dict__ \n",
    "                    nutrition = food_data.get('_nutrition', {})  \n",
    "                    \n",
    "                    date = f\"{day:02d}/{month:02d}/{str(year)[2:]}\"\n",
    "                    calories = nutrition.get('calories', np.nan)\n",
    "                    carbohydrates = nutrition.get('carbohydrates', np.nan)\n",
    "                    fat = nutrition.get('fat', np.nan)\n",
    "                    protein = nutrition.get('protein', np.nan)\n",
    "                    sodium = nutrition.get('sodium', np.nan)\n",
    "                    sugar = nutrition.get('sugar', np.nan)\n",
    "                    \n",
    "                    serving_size = f\"{food_data.get('_quantity', 'unknown')} {food_data.get('_unit', 'unknown')}\"\n",
    "                    \n",
    "                    food_name = food_data.get('_name', 'unknown').strip()\n",
    "\n",
    "                    df.loc[len(df)] = [date, serving_size, food_name, calories, carbohydrates, fat, protein, sodium, sugar]\n",
    "    except Exception as e:\n",
    "        print(f\"Error pulling data for {year}-{month:02d}-{day:02d}: {e}\")\n"
   ]
  },
  {
   "cell_type": "code",
   "execution_count": null,
   "metadata": {},
   "outputs": [
    {
     "name": "stderr",
     "output_type": "stream",
     "text": [
      "Processing Dates: 100%|██████████| 607/607 [09:34<00:00,  1.06date/s]\n"
     ]
    }
   ],
   "source": [
    "date_range = pd.date_range(start=start_date, end=end_date) \n",
    "\n",
    "for current_date in tqdm(date_range, desc=\"Processing Dates\", unit=\"date\"):\n",
    "    year = current_date.year\n",
    "    month = current_date.month\n",
    "    day = current_date.day\n",
    "    \n",
    "    pull_data_for_date(year, month, day)"
   ]
  },
  {
   "cell_type": "code",
   "execution_count": null,
   "metadata": {},
   "outputs": [],
   "source": [
    "df.to_csv('../data/dietary habit.csv', index=False)"
   ]
  }
 ],
 "metadata": {
  "kernelspec": {
   "display_name": "PHMKG",
   "language": "python",
   "name": "python3"
  },
  "language_info": {
   "codemirror_mode": {
    "name": "ipython",
    "version": 3
   },
   "file_extension": ".py",
   "mimetype": "text/x-python",
   "name": "python",
   "nbconvert_exporter": "python",
   "pygments_lexer": "ipython3",
   "version": "3.13.0"
  }
 },
 "nbformat": 4,
 "nbformat_minor": 2
}
